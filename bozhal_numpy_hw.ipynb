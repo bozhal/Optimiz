{
 "cells": [
  {
   "cell_type": "code",
   "execution_count": 76,
   "id": "0a6d78cd-ecc4-47d3-8dc1-15912d253959",
   "metadata": {},
   "outputs": [],
   "source": [
    "import numpy as np\n",
    "import random\n",
    "#Решите без использования циклов средставми NumPy (каждый пункт решается в 1-2 строчки)"
   ]
  },
  {
   "cell_type": "code",
   "execution_count": 8,
   "id": "4fc51d71-13a9-4636-b5bd-37eeaa06a45a",
   "metadata": {},
   "outputs": [
    {
     "data": {
      "text/plain": [
       "array([12, 13, 14, 15, 16, 17, 18, 19, 20, 21, 22, 23, 24, 25, 26, 27, 28,\n",
       "       29, 30, 31, 32, 33, 34, 35, 36, 37, 38, 39, 40, 41, 42])"
      ]
     },
     "execution_count": 8,
     "metadata": {},
     "output_type": "execute_result"
    }
   ],
   "source": [
    "# 1. Создайте вектор с элементами от 12 до 42\n",
    "np.arange(12,43)"
   ]
  },
  {
   "cell_type": "code",
   "execution_count": 15,
   "id": "365e6ff1-8649-4971-b845-cab7c842ea4e",
   "metadata": {},
   "outputs": [
    {
     "data": {
      "text/plain": [
       "array([0, 0, 0, 0, 1, 0, 0, 0, 0, 0, 0, 0])"
      ]
     },
     "execution_count": 15,
     "metadata": {},
     "output_type": "execute_result"
    }
   ],
   "source": [
    "# 2. Создайте вектор из нулей длины 12, но его пятый элемент(индекс=4) должен быть равен 1\n",
    "vc = np.array([0] * 12)\n",
    "vc[4] = 1\n",
    "vc"
   ]
  },
  {
   "cell_type": "code",
   "execution_count": 97,
   "id": "3841494b-4916-4630-9223-88bc6c77587b",
   "metadata": {},
   "outputs": [
    {
     "data": {
      "text/plain": [
       "array([[0, 1, 2],\n",
       "       [3, 4, 5],\n",
       "       [6, 7, 8]])"
      ]
     },
     "execution_count": 97,
     "metadata": {},
     "output_type": "execute_result"
    }
   ],
   "source": [
    "# 3. Создайте матрицу (3, 3), заполненую от 0 до 8\n",
    "matrix = np.arange(9).reshape(3,3)\n",
    "matrix"
   ]
  },
  {
   "cell_type": "code",
   "execution_count": 72,
   "id": "1879d39c-0efd-4942-89a1-958758b316af",
   "metadata": {},
   "outputs": [
    {
     "data": {
      "text/plain": [
       "array([1, 2, 4])"
      ]
     },
     "execution_count": 72,
     "metadata": {},
     "output_type": "execute_result"
    }
   ],
   "source": [
    "# 4. Найдите все положительные числа в массиве, например в np.array([1,2,0,0,4,0])\n",
    "mx = np.array([1,2,0,0,4,0])\n",
    "mx[mx > 0]"
   ]
  },
  {
   "cell_type": "code",
   "execution_count": 75,
   "id": "e9874c87-57a3-4f4c-b114-9718497217c9",
   "metadata": {},
   "outputs": [
    {
     "data": {
      "text/plain": [
       "(array([[ 0,  1,  2],\n",
       "        [ 3,  4,  5],\n",
       "        [ 6,  7,  8],\n",
       "        [ 9, 10, 11],\n",
       "        [12, 13, 14]]),\n",
       " array([[0, 1],\n",
       "        [2, 3],\n",
       "        [4, 5]]),\n",
       " array([[ 10,  13],\n",
       "        [ 28,  40],\n",
       "        [ 46,  67],\n",
       "        [ 64,  94],\n",
       "        [ 82, 121]]))"
      ]
     },
     "execution_count": 75,
     "metadata": {},
     "output_type": "execute_result"
    }
   ],
   "source": [
    "# 5. Умножьте матрицу размерности (5, 3) на (3, 2)\n",
    "mx1 = np.arange(15).reshape(5,3)\n",
    "mx2 = np.arange(6).reshape(3,2)\n",
    "mx3 = np.dot(mx1, mx2)\n",
    "mx1, mx2, mx3"
   ]
  },
  {
   "cell_type": "code",
   "execution_count": 70,
   "id": "1e1f6799-eda7-447f-b5c6-374e36af8cc7",
   "metadata": {},
   "outputs": [
    {
     "data": {
      "text/plain": [
       "array([[0, 0, 0, 0, 0, 0, 0, 0, 0, 0],\n",
       "       [0, 1, 1, 1, 1, 1, 1, 1, 1, 0],\n",
       "       [0, 1, 1, 1, 1, 1, 1, 1, 1, 0],\n",
       "       [0, 1, 1, 1, 1, 1, 1, 1, 1, 0],\n",
       "       [0, 1, 1, 1, 1, 1, 1, 1, 1, 0],\n",
       "       [0, 1, 1, 1, 1, 1, 1, 1, 1, 0],\n",
       "       [0, 1, 1, 1, 1, 1, 1, 1, 1, 0],\n",
       "       [0, 1, 1, 1, 1, 1, 1, 1, 1, 0],\n",
       "       [0, 1, 1, 1, 1, 1, 1, 1, 1, 0],\n",
       "       [0, 0, 0, 0, 0, 0, 0, 0, 0, 0]])"
      ]
     },
     "execution_count": 70,
     "metadata": {},
     "output_type": "execute_result"
    }
   ],
   "source": [
    "# 6. Создайте матрицу (10, 10) так, чтобы на границе были 0, а внутри 1\n",
    "mx = np.full((10, 10), 0)\n",
    "mx[1:9, 1:9] = 1\n",
    "mx"
   ]
  },
  {
   "cell_type": "code",
   "execution_count": 89,
   "id": "d4dd6347-32c3-4cc9-8533-1d381c5159f3",
   "metadata": {},
   "outputs": [
    {
     "data": {
      "text/plain": [
       "array([2, 2, 2, 2, 5, 6, 6, 7, 7, 9])"
      ]
     },
     "execution_count": 89,
     "metadata": {},
     "output_type": "execute_result"
    }
   ],
   "source": [
    "# 7. Создайте рандомный вектор и отсортируйте его\n",
    "vect = np.random.randint(1, 10, 10)\n",
    "np.sort(vect)"
   ]
  },
  {
   "cell_type": "code",
   "execution_count": 95,
   "id": "d6118896-7c9b-4ad1-801f-514c4c656b60",
   "metadata": {},
   "outputs": [
    {
     "data": {
      "text/plain": [
       "<numpy.ndenumerate at 0x162a0f93a90>"
      ]
     },
     "execution_count": 95,
     "metadata": {},
     "output_type": "execute_result"
    }
   ],
   "source": [
    "# 8. Каков эквивалент функции enumerate для numpy массивов?\n",
    "np.ndenumerate(mx)"
   ]
  },
  {
   "cell_type": "code",
   "execution_count": 118,
   "id": "234d1f57-166e-4139-ab0a-1a3595c313d4",
   "metadata": {},
   "outputs": [
    {
     "data": {
      "text/plain": [
       "(array([[0, 1, 2],\n",
       "        [3, 4, 5],\n",
       "        [6, 7, 8]]),\n",
       " array([3., 4., 5.]),\n",
       " array([[-3., -3., -3.],\n",
       "        [ 0.,  0.,  0.],\n",
       "        [ 3.,  3.,  3.]]),\n",
       " array([2.44948974, 2.44948974, 2.44948974]),\n",
       " array([[0.        , 0.40824829, 0.81649658],\n",
       "        [1.22474487, 1.63299316, 2.04124145],\n",
       "        [2.44948974, 2.85773803, 3.26598632]]))"
      ]
     },
     "execution_count": 118,
     "metadata": {},
     "output_type": "execute_result"
    }
   ],
   "source": [
    "# 9. *Создайте матрицу(3x3) и выполните нормализацию столбцов\n",
    "# (из каждого столбца вычесть среднее этого столбца, полученный результат разделить на std этого столбца)\n",
    "avg = np.average(matrix, axis = 0)\n",
    "m_matrix = matrix - avg\n",
    "st = np.std(matrix, axis = 0)\n",
    "st_matrix = matrix / st\n",
    "matrix, avg, d_matrix, st, st_matrix"
   ]
  },
  {
   "cell_type": "code",
   "execution_count": 171,
   "id": "093ff8db-a938-4e46-a99c-f22931a00dae",
   "metadata": {},
   "outputs": [
    {
     "data": {
      "text/plain": [
       "(0, array([1, 0, 0, 2, 2, 0, 1, 3, 0, 1]), array([1, 0, 2, 3]))"
      ]
     },
     "execution_count": 171,
     "metadata": {},
     "output_type": "execute_result"
    }
   ],
   "source": [
    "# 10. *Для заданного числа найдите ближайший к нему элемент в векторе (подсказка: np.random.randint(qty, size=()), np.random.choice)\n",
    "vc = np.random.randint(5, size=(10))\n",
    "number = np.random.choice(5)\n",
    "ind = np.where(vc == number)[0]\n",
    "nearest = vc[ind - 1]\n",
    "number, vc, nearest"
   ]
  },
  {
   "cell_type": "code",
   "execution_count": 184,
   "id": "6f92f1ef-884d-4249-b8db-0222a12a4eba",
   "metadata": {},
   "outputs": [
    {
     "name": "stdout",
     "output_type": "stream",
     "text": [
      "[4 2 5 3 0 9 4 9 5 1] \n",
      " [0, 1, 2, 3, 4, 5, 9] \n",
      " 6 \n",
      " [1, 2, 3, 4, 5, 9]\n"
     ]
    }
   ],
   "source": [
    "# 11. *Найдите N наибольших значений в векторе\n",
    "vec = np.random.randint(10, size=(10))\n",
    "vec_uniq = set(list(vec))\n",
    "srt = sorted(vec_uniq)\n",
    "N = np.random.choice(10)\n",
    "print(vec, '\\n',  srt, '\\n', N, '\\n', srt[-N:])"
   ]
  }
 ],
 "metadata": {
  "kernelspec": {
   "display_name": "Python 3 (ipykernel)",
   "language": "python",
   "name": "python3"
  },
  "language_info": {
   "codemirror_mode": {
    "name": "ipython",
    "version": 3
   },
   "file_extension": ".py",
   "mimetype": "text/x-python",
   "name": "python",
   "nbconvert_exporter": "python",
   "pygments_lexer": "ipython3",
   "version": "3.11.7"
  }
 },
 "nbformat": 4,
 "nbformat_minor": 5
}
