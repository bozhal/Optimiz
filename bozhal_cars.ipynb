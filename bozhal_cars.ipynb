{
 "cells": [
  {
   "cell_type": "code",
   "execution_count": 9,
   "id": "ebd1f81e-dbf2-4484-ac08-87fc2ed3c9ff",
   "metadata": {},
   "outputs": [],
   "source": [
    "import sklearn \n",
    "import pandas as pd\n",
    "import numpy as np\n",
    "import seaborn as sns\n",
    "import matplotlib.pyplot as plt\n",
    "%matplotlib inline"
   ]
  },
  {
   "cell_type": "code",
   "execution_count": 33,
   "id": "5393ff92-761e-4d6b-add3-32b89bea11b4",
   "metadata": {},
   "outputs": [],
   "source": [
    "cars = pd.read_csv(r'C:\\Users\\Alexey\\data\\cars.csv')"
   ]
  },
  {
   "cell_type": "code",
   "execution_count": 34,
   "id": "0d4f3b75-c32f-41c6-a166-3be061fbc941",
   "metadata": {},
   "outputs": [
    {
     "name": "stdout",
     "output_type": "stream",
     "text": [
      "<class 'pandas.core.frame.DataFrame'>\n",
      "RangeIndex: 8128 entries, 0 to 8127\n",
      "Data columns (total 13 columns):\n",
      " #   Column         Non-Null Count  Dtype  \n",
      "---  ------         --------------  -----  \n",
      " 0   name           8128 non-null   object \n",
      " 1   year           8128 non-null   int64  \n",
      " 2   selling_price  8128 non-null   int64  \n",
      " 3   km_driven      8128 non-null   int64  \n",
      " 4   fuel           8128 non-null   object \n",
      " 5   seller_type    8128 non-null   object \n",
      " 6   transmission   8128 non-null   object \n",
      " 7   owner          8128 non-null   object \n",
      " 8   mileage        7907 non-null   object \n",
      " 9   engine         7907 non-null   object \n",
      " 10  max_power      7913 non-null   object \n",
      " 11  torque         7906 non-null   object \n",
      " 12  seats          7907 non-null   float64\n",
      "dtypes: float64(1), int64(3), object(9)\n",
      "memory usage: 825.6+ KB\n"
     ]
    }
   ],
   "source": [
    "cars.info()"
   ]
  },
  {
   "cell_type": "code",
   "execution_count": 35,
   "id": "2b8b16de-04d1-4e2d-bcce-4feb4285d894",
   "metadata": {},
   "outputs": [
    {
     "data": {
      "text/html": [
       "<div>\n",
       "<style scoped>\n",
       "    .dataframe tbody tr th:only-of-type {\n",
       "        vertical-align: middle;\n",
       "    }\n",
       "\n",
       "    .dataframe tbody tr th {\n",
       "        vertical-align: top;\n",
       "    }\n",
       "\n",
       "    .dataframe thead th {\n",
       "        text-align: right;\n",
       "    }\n",
       "</style>\n",
       "<table border=\"1\" class=\"dataframe\">\n",
       "  <thead>\n",
       "    <tr style=\"text-align: right;\">\n",
       "      <th></th>\n",
       "      <th>name</th>\n",
       "      <th>year</th>\n",
       "      <th>selling_price</th>\n",
       "      <th>km_driven</th>\n",
       "      <th>fuel</th>\n",
       "      <th>seller_type</th>\n",
       "      <th>transmission</th>\n",
       "      <th>owner</th>\n",
       "      <th>mileage</th>\n",
       "      <th>engine</th>\n",
       "      <th>max_power</th>\n",
       "      <th>torque</th>\n",
       "      <th>seats</th>\n",
       "    </tr>\n",
       "  </thead>\n",
       "  <tbody>\n",
       "    <tr>\n",
       "      <th>0</th>\n",
       "      <td>Maruti Swift Dzire VDI</td>\n",
       "      <td>2014</td>\n",
       "      <td>450000</td>\n",
       "      <td>145500</td>\n",
       "      <td>Diesel</td>\n",
       "      <td>Individual</td>\n",
       "      <td>Manual</td>\n",
       "      <td>First Owner</td>\n",
       "      <td>23.4 kmpl</td>\n",
       "      <td>1248 CC</td>\n",
       "      <td>74 bhp</td>\n",
       "      <td>190Nm@ 2000rpm</td>\n",
       "      <td>5.0</td>\n",
       "    </tr>\n",
       "    <tr>\n",
       "      <th>1</th>\n",
       "      <td>Skoda Rapid 1.5 TDI Ambition</td>\n",
       "      <td>2014</td>\n",
       "      <td>370000</td>\n",
       "      <td>120000</td>\n",
       "      <td>Diesel</td>\n",
       "      <td>Individual</td>\n",
       "      <td>Manual</td>\n",
       "      <td>Second Owner</td>\n",
       "      <td>21.14 kmpl</td>\n",
       "      <td>1498 CC</td>\n",
       "      <td>103.52 bhp</td>\n",
       "      <td>250Nm@ 1500-2500rpm</td>\n",
       "      <td>5.0</td>\n",
       "    </tr>\n",
       "    <tr>\n",
       "      <th>2</th>\n",
       "      <td>Honda City 2017-2020 EXi</td>\n",
       "      <td>2006</td>\n",
       "      <td>158000</td>\n",
       "      <td>140000</td>\n",
       "      <td>Petrol</td>\n",
       "      <td>Individual</td>\n",
       "      <td>Manual</td>\n",
       "      <td>Third Owner</td>\n",
       "      <td>17.7 kmpl</td>\n",
       "      <td>1497 CC</td>\n",
       "      <td>78 bhp</td>\n",
       "      <td>12.7@ 2,700(kgm@ rpm)</td>\n",
       "      <td>5.0</td>\n",
       "    </tr>\n",
       "    <tr>\n",
       "      <th>3</th>\n",
       "      <td>Hyundai i20 Sportz Diesel</td>\n",
       "      <td>2010</td>\n",
       "      <td>225000</td>\n",
       "      <td>127000</td>\n",
       "      <td>Diesel</td>\n",
       "      <td>Individual</td>\n",
       "      <td>Manual</td>\n",
       "      <td>First Owner</td>\n",
       "      <td>23.0 kmpl</td>\n",
       "      <td>1396 CC</td>\n",
       "      <td>90 bhp</td>\n",
       "      <td>22.4 kgm at 1750-2750rpm</td>\n",
       "      <td>5.0</td>\n",
       "    </tr>\n",
       "    <tr>\n",
       "      <th>4</th>\n",
       "      <td>Maruti Swift VXI BSIII</td>\n",
       "      <td>2007</td>\n",
       "      <td>130000</td>\n",
       "      <td>120000</td>\n",
       "      <td>Petrol</td>\n",
       "      <td>Individual</td>\n",
       "      <td>Manual</td>\n",
       "      <td>First Owner</td>\n",
       "      <td>16.1 kmpl</td>\n",
       "      <td>1298 CC</td>\n",
       "      <td>88.2 bhp</td>\n",
       "      <td>11.5@ 4,500(kgm@ rpm)</td>\n",
       "      <td>5.0</td>\n",
       "    </tr>\n",
       "    <tr>\n",
       "      <th>...</th>\n",
       "      <td>...</td>\n",
       "      <td>...</td>\n",
       "      <td>...</td>\n",
       "      <td>...</td>\n",
       "      <td>...</td>\n",
       "      <td>...</td>\n",
       "      <td>...</td>\n",
       "      <td>...</td>\n",
       "      <td>...</td>\n",
       "      <td>...</td>\n",
       "      <td>...</td>\n",
       "      <td>...</td>\n",
       "      <td>...</td>\n",
       "    </tr>\n",
       "    <tr>\n",
       "      <th>8123</th>\n",
       "      <td>Hyundai i20 Magna</td>\n",
       "      <td>2013</td>\n",
       "      <td>320000</td>\n",
       "      <td>110000</td>\n",
       "      <td>Petrol</td>\n",
       "      <td>Individual</td>\n",
       "      <td>Manual</td>\n",
       "      <td>First Owner</td>\n",
       "      <td>18.5 kmpl</td>\n",
       "      <td>1197 CC</td>\n",
       "      <td>82.85 bhp</td>\n",
       "      <td>113.7Nm@ 4000rpm</td>\n",
       "      <td>5.0</td>\n",
       "    </tr>\n",
       "    <tr>\n",
       "      <th>8124</th>\n",
       "      <td>Hyundai Verna CRDi SX</td>\n",
       "      <td>2007</td>\n",
       "      <td>135000</td>\n",
       "      <td>119000</td>\n",
       "      <td>Diesel</td>\n",
       "      <td>Individual</td>\n",
       "      <td>Manual</td>\n",
       "      <td>Fourth &amp; Above Owner</td>\n",
       "      <td>16.8 kmpl</td>\n",
       "      <td>1493 CC</td>\n",
       "      <td>110 bhp</td>\n",
       "      <td>24@ 1,900-2,750(kgm@ rpm)</td>\n",
       "      <td>5.0</td>\n",
       "    </tr>\n",
       "    <tr>\n",
       "      <th>8125</th>\n",
       "      <td>Maruti Swift Dzire ZDi</td>\n",
       "      <td>2009</td>\n",
       "      <td>382000</td>\n",
       "      <td>120000</td>\n",
       "      <td>Diesel</td>\n",
       "      <td>Individual</td>\n",
       "      <td>Manual</td>\n",
       "      <td>First Owner</td>\n",
       "      <td>19.3 kmpl</td>\n",
       "      <td>1248 CC</td>\n",
       "      <td>73.9 bhp</td>\n",
       "      <td>190Nm@ 2000rpm</td>\n",
       "      <td>5.0</td>\n",
       "    </tr>\n",
       "    <tr>\n",
       "      <th>8126</th>\n",
       "      <td>Tata Indigo CR4</td>\n",
       "      <td>2013</td>\n",
       "      <td>290000</td>\n",
       "      <td>25000</td>\n",
       "      <td>Diesel</td>\n",
       "      <td>Individual</td>\n",
       "      <td>Manual</td>\n",
       "      <td>First Owner</td>\n",
       "      <td>23.57 kmpl</td>\n",
       "      <td>1396 CC</td>\n",
       "      <td>70 bhp</td>\n",
       "      <td>140Nm@ 1800-3000rpm</td>\n",
       "      <td>5.0</td>\n",
       "    </tr>\n",
       "    <tr>\n",
       "      <th>8127</th>\n",
       "      <td>Tata Indigo CR4</td>\n",
       "      <td>2013</td>\n",
       "      <td>290000</td>\n",
       "      <td>25000</td>\n",
       "      <td>Diesel</td>\n",
       "      <td>Individual</td>\n",
       "      <td>Manual</td>\n",
       "      <td>First Owner</td>\n",
       "      <td>23.57 kmpl</td>\n",
       "      <td>1396 CC</td>\n",
       "      <td>70 bhp</td>\n",
       "      <td>140Nm@ 1800-3000rpm</td>\n",
       "      <td>5.0</td>\n",
       "    </tr>\n",
       "  </tbody>\n",
       "</table>\n",
       "<p>8128 rows × 13 columns</p>\n",
       "</div>"
      ],
      "text/plain": [
       "                              name  year  selling_price  km_driven    fuel  \\\n",
       "0           Maruti Swift Dzire VDI  2014         450000     145500  Diesel   \n",
       "1     Skoda Rapid 1.5 TDI Ambition  2014         370000     120000  Diesel   \n",
       "2         Honda City 2017-2020 EXi  2006         158000     140000  Petrol   \n",
       "3        Hyundai i20 Sportz Diesel  2010         225000     127000  Diesel   \n",
       "4           Maruti Swift VXI BSIII  2007         130000     120000  Petrol   \n",
       "...                            ...   ...            ...        ...     ...   \n",
       "8123             Hyundai i20 Magna  2013         320000     110000  Petrol   \n",
       "8124         Hyundai Verna CRDi SX  2007         135000     119000  Diesel   \n",
       "8125        Maruti Swift Dzire ZDi  2009         382000     120000  Diesel   \n",
       "8126               Tata Indigo CR4  2013         290000      25000  Diesel   \n",
       "8127               Tata Indigo CR4  2013         290000      25000  Diesel   \n",
       "\n",
       "     seller_type transmission                 owner     mileage   engine  \\\n",
       "0     Individual       Manual           First Owner   23.4 kmpl  1248 CC   \n",
       "1     Individual       Manual          Second Owner  21.14 kmpl  1498 CC   \n",
       "2     Individual       Manual           Third Owner   17.7 kmpl  1497 CC   \n",
       "3     Individual       Manual           First Owner   23.0 kmpl  1396 CC   \n",
       "4     Individual       Manual           First Owner   16.1 kmpl  1298 CC   \n",
       "...          ...          ...                   ...         ...      ...   \n",
       "8123  Individual       Manual           First Owner   18.5 kmpl  1197 CC   \n",
       "8124  Individual       Manual  Fourth & Above Owner   16.8 kmpl  1493 CC   \n",
       "8125  Individual       Manual           First Owner   19.3 kmpl  1248 CC   \n",
       "8126  Individual       Manual           First Owner  23.57 kmpl  1396 CC   \n",
       "8127  Individual       Manual           First Owner  23.57 kmpl  1396 CC   \n",
       "\n",
       "       max_power                     torque  seats  \n",
       "0         74 bhp             190Nm@ 2000rpm    5.0  \n",
       "1     103.52 bhp        250Nm@ 1500-2500rpm    5.0  \n",
       "2         78 bhp      12.7@ 2,700(kgm@ rpm)    5.0  \n",
       "3         90 bhp   22.4 kgm at 1750-2750rpm    5.0  \n",
       "4       88.2 bhp      11.5@ 4,500(kgm@ rpm)    5.0  \n",
       "...          ...                        ...    ...  \n",
       "8123   82.85 bhp           113.7Nm@ 4000rpm    5.0  \n",
       "8124     110 bhp  24@ 1,900-2,750(kgm@ rpm)    5.0  \n",
       "8125    73.9 bhp             190Nm@ 2000rpm    5.0  \n",
       "8126      70 bhp        140Nm@ 1800-3000rpm    5.0  \n",
       "8127      70 bhp        140Nm@ 1800-3000rpm    5.0  \n",
       "\n",
       "[8128 rows x 13 columns]"
      ]
     },
     "execution_count": 35,
     "metadata": {},
     "output_type": "execute_result"
    }
   ],
   "source": [
    "cars"
   ]
  },
  {
   "cell_type": "code",
   "execution_count": 36,
   "id": "4eb733c3-ac92-435f-9ed3-f6be8337a309",
   "metadata": {},
   "outputs": [],
   "source": [
    "cars['mileage'] = cars['mileage'].str.split(' ').str[0]\n",
    "cars['mileage'] = pd.to_numeric(cars['mileage'])"
   ]
  },
  {
   "cell_type": "code",
   "execution_count": 37,
   "id": "6c23651a-0b52-49f1-8398-d1bbfc3272a8",
   "metadata": {},
   "outputs": [],
   "source": [
    "cars['engine'] = cars['engine'].str.split(' ').str[0]\n",
    "cars['engine'] = pd.to_numeric(cars['engine'])"
   ]
  },
  {
   "cell_type": "code",
   "execution_count": 38,
   "id": "8fe21b80-dc19-492c-bb77-e032b844658c",
   "metadata": {},
   "outputs": [],
   "source": [
    "cars.drop(['name', 'fuel', 'seller_type', 'transmission', 'owner', 'max_power', 'torque'], axis=1, inplace=True)"
   ]
  },
  {
   "cell_type": "code",
   "execution_count": 39,
   "id": "e2905eb5-e159-4ab1-8576-b98afcb673b0",
   "metadata": {},
   "outputs": [],
   "source": [
    "cars.dropna(inplace = True)"
   ]
  },
  {
   "cell_type": "code",
   "execution_count": 40,
   "id": "30a1b8b4",
   "metadata": {},
   "outputs": [],
   "source": [
    "cars['seats'] = cars['seats'].astype(int)"
   ]
  },
  {
   "cell_type": "code",
   "execution_count": 41,
   "id": "9a1616e9-37e8-4384-a297-43893a57a8c5",
   "metadata": {},
   "outputs": [],
   "source": [
    "# переставляем колонки для наглядности\n",
    "cars = cars[['selling_price', 'year', 'km_driven', 'mileage', 'engine', 'seats']]"
   ]
  },
  {
   "cell_type": "code",
   "execution_count": 45,
   "id": "8f0a052a-f294-4e02-8398-ab7b58bdfac5",
   "metadata": {},
   "outputs": [
    {
     "data": {
      "text/html": [
       "<div>\n",
       "<style scoped>\n",
       "    .dataframe tbody tr th:only-of-type {\n",
       "        vertical-align: middle;\n",
       "    }\n",
       "\n",
       "    .dataframe tbody tr th {\n",
       "        vertical-align: top;\n",
       "    }\n",
       "\n",
       "    .dataframe thead th {\n",
       "        text-align: right;\n",
       "    }\n",
       "</style>\n",
       "<table border=\"1\" class=\"dataframe\">\n",
       "  <thead>\n",
       "    <tr style=\"text-align: right;\">\n",
       "      <th></th>\n",
       "      <th>selling_price</th>\n",
       "      <th>year</th>\n",
       "      <th>km_driven</th>\n",
       "      <th>mileage</th>\n",
       "      <th>engine</th>\n",
       "      <th>seats</th>\n",
       "    </tr>\n",
       "  </thead>\n",
       "  <tbody>\n",
       "    <tr>\n",
       "      <th>count</th>\n",
       "      <td>7.907000e+03</td>\n",
       "      <td>7907.000000</td>\n",
       "      <td>7.907000e+03</td>\n",
       "      <td>7907.000000</td>\n",
       "      <td>7907.000000</td>\n",
       "      <td>7907.000000</td>\n",
       "    </tr>\n",
       "    <tr>\n",
       "      <th>mean</th>\n",
       "      <td>6.497417e+05</td>\n",
       "      <td>2013.982168</td>\n",
       "      <td>6.919256e+04</td>\n",
       "      <td>19.418783</td>\n",
       "      <td>1458.625016</td>\n",
       "      <td>5.416719</td>\n",
       "    </tr>\n",
       "    <tr>\n",
       "      <th>std</th>\n",
       "      <td>8.135565e+05</td>\n",
       "      <td>3.866650</td>\n",
       "      <td>5.678976e+04</td>\n",
       "      <td>4.037145</td>\n",
       "      <td>503.916303</td>\n",
       "      <td>0.959588</td>\n",
       "    </tr>\n",
       "    <tr>\n",
       "      <th>min</th>\n",
       "      <td>2.999900e+04</td>\n",
       "      <td>1994.000000</td>\n",
       "      <td>1.000000e+00</td>\n",
       "      <td>0.000000</td>\n",
       "      <td>624.000000</td>\n",
       "      <td>2.000000</td>\n",
       "    </tr>\n",
       "    <tr>\n",
       "      <th>25%</th>\n",
       "      <td>2.700000e+05</td>\n",
       "      <td>2012.000000</td>\n",
       "      <td>3.500000e+04</td>\n",
       "      <td>16.780000</td>\n",
       "      <td>1197.000000</td>\n",
       "      <td>5.000000</td>\n",
       "    </tr>\n",
       "    <tr>\n",
       "      <th>50%</th>\n",
       "      <td>4.500000e+05</td>\n",
       "      <td>2015.000000</td>\n",
       "      <td>6.000000e+04</td>\n",
       "      <td>19.300000</td>\n",
       "      <td>1248.000000</td>\n",
       "      <td>5.000000</td>\n",
       "    </tr>\n",
       "    <tr>\n",
       "      <th>75%</th>\n",
       "      <td>6.900000e+05</td>\n",
       "      <td>2017.000000</td>\n",
       "      <td>9.575000e+04</td>\n",
       "      <td>22.320000</td>\n",
       "      <td>1582.000000</td>\n",
       "      <td>5.000000</td>\n",
       "    </tr>\n",
       "    <tr>\n",
       "      <th>max</th>\n",
       "      <td>1.000000e+07</td>\n",
       "      <td>2020.000000</td>\n",
       "      <td>2.360457e+06</td>\n",
       "      <td>42.000000</td>\n",
       "      <td>3604.000000</td>\n",
       "      <td>14.000000</td>\n",
       "    </tr>\n",
       "  </tbody>\n",
       "</table>\n",
       "</div>"
      ],
      "text/plain": [
       "       selling_price         year     km_driven      mileage       engine  \\\n",
       "count   7.907000e+03  7907.000000  7.907000e+03  7907.000000  7907.000000   \n",
       "mean    6.497417e+05  2013.982168  6.919256e+04    19.418783  1458.625016   \n",
       "std     8.135565e+05     3.866650  5.678976e+04     4.037145   503.916303   \n",
       "min     2.999900e+04  1994.000000  1.000000e+00     0.000000   624.000000   \n",
       "25%     2.700000e+05  2012.000000  3.500000e+04    16.780000  1197.000000   \n",
       "50%     4.500000e+05  2015.000000  6.000000e+04    19.300000  1248.000000   \n",
       "75%     6.900000e+05  2017.000000  9.575000e+04    22.320000  1582.000000   \n",
       "max     1.000000e+07  2020.000000  2.360457e+06    42.000000  3604.000000   \n",
       "\n",
       "             seats  \n",
       "count  7907.000000  \n",
       "mean      5.416719  \n",
       "std       0.959588  \n",
       "min       2.000000  \n",
       "25%       5.000000  \n",
       "50%       5.000000  \n",
       "75%       5.000000  \n",
       "max      14.000000  "
      ]
     },
     "execution_count": 45,
     "metadata": {},
     "output_type": "execute_result"
    }
   ],
   "source": [
    "cars.describe()"
   ]
  },
  {
   "cell_type": "code",
   "execution_count": 42,
   "id": "26e59a83-8195-497e-8059-2dba4515eeea",
   "metadata": {},
   "outputs": [
    {
     "data": {
      "image/png": "[encoded data removed]",
      "text/plain": [
       "<Figure size 432x288 with 2 Axes>"
      ]
     },
     "metadata": {
      "needs_background": "light"
     },
     "output_type": "display_data"
    }
   ],
   "source": [
    "hm = sns.heatmap(cars.corr(), cbar=True, annot=True)"
   ]
  },
  {
   "cell_type": "code",
   "execution_count": 43,
   "id": "66baf66f-bec9-437b-9497-943d7e208532",
   "metadata": {},
   "outputs": [
    {
     "data": {
      "image/png": "[encoded data removed]",
      "text/plain": [
       "<Figure size 1152x576 with 2 Axes>"
      ]
     },
     "metadata": {
      "needs_background": "light"
     },
     "output_type": "display_data"
    }
   ],
   "source": [
    "fig, ax = plt.subplots(1, 1, figsize=(16, 8))\n",
    "sns.heatmap(data=cars.corr().abs().round(2), annot=True, cmap=\"YlGnBu\", center=0.5, ax=ax);"
   ]
  },
  {
   "cell_type": "code",
   "execution_count": 53,
   "id": "b39f68c1-e230-4c51-bd21-e62a3670af37",
   "metadata": {},
   "outputs": [],
   "source": [
    "## Регрессионный анализ"
   ]
  },
  {
   "cell_type": "code",
   "execution_count": 44,
   "id": "957c3b26-6d1f-45ab-9d3d-ccee5b57db66",
   "metadata": {},
   "outputs": [],
   "source": [
    "X = cars[['year', 'km_driven', 'mileage', 'engine', 'seats']].values\n",
    "y = cars['selling_price'].values"
   ]
  },
  {
   "cell_type": "code",
   "execution_count": 45,
   "id": "c1e39d60-fb3e-4401-b17b-d0b3991fdd08",
   "metadata": {},
   "outputs": [],
   "source": [
    "from sklearn.linear_model import LinearRegression"
   ]
  },
  {
   "cell_type": "code",
   "execution_count": 46,
   "id": "4be9239c-baaf-4e69-800c-fca271d50d2c",
   "metadata": {},
   "outputs": [
    {
     "name": "stdout",
     "output_type": "stream",
     "text": [
      "Slope: 73705.71\n",
      "Intercept: -147477012.93\n"
     ]
    }
   ],
   "source": [
    "slr = LinearRegression() # создали экземпляр\n",
    "slr.fit(X, y)  # обучаем модель\n",
    "y_pred = slr.predict(X) # получаем предсказания\n",
    "print(f'Slope: {slr.coef_[0]:.2f}')       # Коэффицент наклона прямой\n",
    "print(f'Intercept: {slr.intercept_:.2f}') # Коэффицент сдвига по оси Y"
   ]
  },
  {
   "cell_type": "code",
   "execution_count": 47,
   "id": "15aa996f-8541-4010-ac9e-794c38f85cf0",
   "metadata": {},
   "outputs": [
    {
     "data": {
      "text/plain": [
       "0.47000040403148924"
      ]
     },
     "execution_count": 47,
     "metadata": {},
     "output_type": "execute_result"
    }
   ],
   "source": [
    "slr.score(X, y)"
   ]
  },
  {
   "cell_type": "code",
   "execution_count": null,
   "id": "b9d24e78-a782-4cc8-bbaa-f6e82fd338dd",
   "metadata": {},
   "outputs": [],
   "source": []
  },
  {
   "cell_type": "markdown",
   "id": "8d554f09-ff2b-489f-a473-bfd8a52cdc3a",
   "metadata": {},
   "source": [
    "### Проверка качества модели:"
   ]
  },
  {
   "cell_type": "code",
   "execution_count": 48,
   "id": "4bc0e4fa-f5fa-46df-855e-7978101ef958",
   "metadata": {},
   "outputs": [],
   "source": [
    "from sklearn.model_selection import train_test_split\n",
    "# разбиваем выборке на две части(тренировочную и тестовую)\n",
    "X_train, X_test, y_train, y_test = train_test_split(X, y, test_size=0.3, random_state=42)"
   ]
  },
  {
   "cell_type": "code",
   "execution_count": 49,
   "id": "08091492-bf22-4813-a63d-c596f3c82729",
   "metadata": {},
   "outputs": [
    {
     "data": {
      "text/plain": [
       "((5534, 5), (2373, 5))"
      ]
     },
     "execution_count": 49,
     "metadata": {},
     "output_type": "execute_result"
    }
   ],
   "source": [
    "X_train.shape, X_test.shape"
   ]
  },
  {
   "cell_type": "code",
   "execution_count": 50,
   "id": "f26e59e3-e58b-4ea3-aba4-f772df0a84f0",
   "metadata": {},
   "outputs": [],
   "source": [
    "slr = LinearRegression()\n",
    "# обучаем модель\n",
    "slr.fit(X_train, y_train)\n",
    "y_train_pred = slr.predict(X_train)\n",
    "y_test_pred = slr.predict(X_test)"
   ]
  },
  {
   "cell_type": "code",
   "execution_count": 51,
   "id": "c3e59ad1-c50c-4ffe-9e28-ff8971af86c2",
   "metadata": {},
   "outputs": [
    {
     "name": "stdout",
     "output_type": "stream",
     "text": [
      "MSE train: 334436355853.923, test: 392510702438.117\n",
      "R^2 train: 0.481, test: 0.441\n",
      "MAE train: 328319.289, test: 348513.918\n"
     ]
    }
   ],
   "source": [
    "from sklearn.metrics import mean_absolute_error, mean_squared_error, r2_score\n",
    "\n",
    "print('MSE train: {:.3f}, test: {:.3f}'.format(\n",
    "        mean_squared_error(y_train, y_train_pred),\n",
    "        mean_squared_error(y_test, y_test_pred)))\n",
    "print('R^2 train: {:.3f}, test: {:.3f}'.format(\n",
    "        r2_score(y_train, y_train_pred),\n",
    "        r2_score(y_test, y_test_pred)))\n",
    "print('MAE train: {:.3f}, test: {:.3f}'.format(\n",
    "       mean_absolute_error(y_train, y_train_pred),\n",
    "       mean_absolute_error(y_test, y_test_pred)))"
   ]
  },
  {
   "cell_type": "code",
   "execution_count": 52,
   "id": "aa9eb1c7-1a0d-4036-8f3d-5585a9a77527",
   "metadata": {},
   "outputs": [
    {
     "data": {
      "text/plain": [
       "array([ 2,  4,  5,  6,  7,  8,  9, 10, 14])"
      ]
     },
     "execution_count": 52,
     "metadata": {},
     "output_type": "execute_result"
    }
   ],
   "source": [
    "# разбиваем данные по 'seats'\n",
    "np.sort(cars['seats'].unique())"
   ]
  },
  {
   "cell_type": "code",
   "execution_count": 54,
   "id": "0d741eb1-5d75-40c3-b788-e1574b833293",
   "metadata": {},
   "outputs": [
    {
     "name": "stderr",
     "output_type": "stream",
     "text": [
      "C:\\Users\\Alexey\\anaconda3\\envs\\tf\\lib\\site-packages\\ipykernel_launcher.py:2: SettingWithCopyWarning: \n",
      "A value is trying to be set on a copy of a slice from a DataFrame.\n",
      "Try using .loc[row_indexer,col_indexer] = value instead\n",
      "\n",
      "See the caveats in the documentation: https://pandas.pydata.org/pandas-docs/stable/user_guide/indexing.html#returning-a-view-versus-a-copy\n",
      "  \n"
     ]
    }
   ],
   "source": [
    "car_type = {2: \"sport\", 4: \"usual\", 5: \"usual\", 6: \"large\", 7: \"large\", 8: \"large\", 9: \"large\", 10: \"large\", 14: \"large\"}\n",
    "cars['type'] = cars['seats'].map(car_type)"
   ]
  },
  {
   "cell_type": "code",
   "execution_count": 55,
   "id": "60f50fd1-721c-4fde-be14-92ae9bd6cd63",
   "metadata": {},
   "outputs": [
    {
     "name": "stdout",
     "output_type": "stream",
     "text": [
      "<class 'pandas.core.frame.DataFrame'>\n",
      "Int64Index: 6387 entries, 0 to 8127\n",
      "Data columns (total 7 columns):\n",
      " #   Column         Non-Null Count  Dtype  \n",
      "---  ------         --------------  -----  \n",
      " 0   selling_price  6387 non-null   int64  \n",
      " 1   year           6387 non-null   int64  \n",
      " 2   km_driven      6387 non-null   int64  \n",
      " 3   mileage        6387 non-null   float64\n",
      " 4   engine         6387 non-null   float64\n",
      " 5   seats          6387 non-null   int32  \n",
      " 6   type           6387 non-null   object \n",
      "dtypes: float64(2), int32(1), int64(3), object(1)\n",
      "memory usage: 374.2+ KB\n"
     ]
    }
   ],
   "source": [
    "cars = cars[cars['type'] == \"usual\"] \n",
    "cars.info()"
   ]
  },
  {
   "cell_type": "code",
   "execution_count": 56,
   "id": "1f05e5e2-0577-4c20-a4b7-e3f1fcea8be9",
   "metadata": {},
   "outputs": [],
   "source": [
    "X = cars[['year', 'km_driven', 'mileage', 'engine']].values\n",
    "y = cars['selling_price'].values"
   ]
  },
  {
   "cell_type": "code",
   "execution_count": null,
   "id": "263e7766-bf4b-4bb0-8f0d-60b62655d4ed",
   "metadata": {},
   "outputs": [],
   "source": []
  },
  {
   "cell_type": "code",
   "execution_count": 57,
   "id": "49101be3-a883-4bfa-b244-fe9e17d0c1f5",
   "metadata": {},
   "outputs": [
    {
     "name": "stdout",
     "output_type": "stream",
     "text": [
      "Slope: 58611.30\n",
      "Intercept: -119057650.57\n"
     ]
    }
   ],
   "source": [
    "slr = LinearRegression() # создали экземпляр\n",
    "slr.fit(X, y)  # обучаем модель\n",
    "y_pred = slr.predict(X) # получаем предсказания\n",
    "print(f'Slope: {slr.coef_[0]:.2f}')       # Коэффицент наклона прямой\n",
    "print(f'Intercept: {slr.intercept_:.2f}') # Коэффицент сдвига по оси Y"
   ]
  },
  {
   "cell_type": "code",
   "execution_count": 58,
   "id": "94d39165-43a0-4f11-a9fd-f4db2502f512",
   "metadata": {},
   "outputs": [
    {
     "data": {
      "text/plain": [
       "0.5348063521659515"
      ]
     },
     "execution_count": 58,
     "metadata": {},
     "output_type": "execute_result"
    }
   ],
   "source": [
    "slr.score(X, y)"
   ]
  },
  {
   "cell_type": "code",
   "execution_count": 59,
   "id": "4e6a7695-7acf-461c-8d6e-2c430cc912e1",
   "metadata": {},
   "outputs": [],
   "source": [
    "from sklearn.model_selection import train_test_split\n",
    "# разбиваем выборке на две части(тренировочную и тестовую)\n",
    "X_train, X_test, y_train, y_test = train_test_split(X, y, test_size=0.3, random_state=42)"
   ]
  },
  {
   "cell_type": "code",
   "execution_count": 60,
   "id": "dbdde309-710b-427f-9564-017b4b3297d7",
   "metadata": {},
   "outputs": [],
   "source": [
    "slr = LinearRegression()\n",
    "# обучаем модель\n",
    "slr.fit(X_train, y_train)\n",
    "y_train_pred = slr.predict(X_train)\n",
    "y_test_pred = slr.predict(X_test)"
   ]
  },
  {
   "cell_type": "code",
   "execution_count": 61,
   "id": "5e928224-1307-483b-9057-6ac33f0788bf",
   "metadata": {},
   "outputs": [
    {
     "name": "stdout",
     "output_type": "stream",
     "text": [
      "MSE train: 321706977173.117, test: 420635058904.723\n",
      "R^2 train: 0.556, test: 0.466\n",
      "MAE train: 335278.610, test: 348250.650\n"
     ]
    }
   ],
   "source": [
    "from sklearn.metrics import mean_absolute_error, mean_squared_error, r2_score\n",
    "\n",
    "print('MSE train: {:.3f}, test: {:.3f}'.format(\n",
    "        mean_squared_error(y_train, y_train_pred),\n",
    "        mean_squared_error(y_test, y_test_pred)))\n",
    "print('R^2 train: {:.3f}, test: {:.3f}'.format(\n",
    "        r2_score(y_train, y_train_pred),\n",
    "        r2_score(y_test, y_test_pred)))\n",
    "print('MAE train: {:.3f}, test: {:.3f}'.format(\n",
    "       mean_absolute_error(y_train, y_train_pred),\n",
    "       mean_absolute_error(y_test, y_test_pred)))"
   ]
  },
  {
   "cell_type": "code",
   "execution_count": 85,
   "id": "81c0e5b5-f0d1-46ed-bb51-0f4511e98f5f",
   "metadata": {},
   "outputs": [],
   "source": [
    "# tensor flow"
   ]
  },
  {
   "cell_type": "code",
   "execution_count": 62,
   "id": "e69fcbd2-e217-4c5c-bce6-ba997a6b563b",
   "metadata": {},
   "outputs": [
    {
     "data": {
      "text/plain": [
       "'2.6.2'"
      ]
     },
     "execution_count": 62,
     "metadata": {},
     "output_type": "execute_result"
    }
   ],
   "source": [
    "import tensorflow as tf\n",
    "from tensorflow import keras\n",
    "tf.__version__"
   ]
  },
  {
   "cell_type": "code",
   "execution_count": 64,
   "id": "fc197e12",
   "metadata": {},
   "outputs": [],
   "source": [
    "# убираем столбец type\n",
    "cars = cars[['selling_price', 'year', 'km_driven', 'mileage', 'engine']]"
   ]
  },
  {
   "cell_type": "code",
   "execution_count": 65,
   "id": "e408bb3b-6c70-4f37-98e5-be67224fa437",
   "metadata": {},
   "outputs": [],
   "source": [
    "X = cars.loc[:, cars.columns != 'selling_price'].values\n",
    "X = np.array(X, dtype=np.float64)\n",
    "y = cars['selling_price'].values\n",
    "y = np.array(y, dtype=np.float64)"
   ]
  },
  {
   "cell_type": "code",
   "execution_count": 66,
   "id": "e180f2fe-d448-4d76-b309-89f766f9b58e",
   "metadata": {},
   "outputs": [],
   "source": [
    "from sklearn.model_selection import train_test_split\n",
    "# разбиваем выборке на две части(тренировочную и тестовую)\n",
    "train_data, test_data, train_labels, test_labels = train_test_split(X, y, test_size=0.3, random_state=42)"
   ]
  },
  {
   "cell_type": "code",
   "execution_count": 67,
   "id": "990b2365-99ee-442f-915a-7d5f477db506",
   "metadata": {},
   "outputs": [
    {
     "name": "stdout",
     "output_type": "stream",
     "text": [
      "Model: \"sequential\"\n",
      "_________________________________________________________________\n",
      "Layer (type)                 Output Shape              Param #   \n",
      "=================================================================\n",
      "dense (Dense)                (None, 64)                320       \n",
      "_________________________________________________________________\n",
      "dense_1 (Dense)              (None, 64)                4160      \n",
      "_________________________________________________________________\n",
      "dense_2 (Dense)              (None, 1)                 65        \n",
      "=================================================================\n",
      "Total params: 4,545\n",
      "Trainable params: 4,545\n",
      "Non-trainable params: 0\n",
      "_________________________________________________________________\n"
     ]
    }
   ],
   "source": [
    "def build_model():\n",
    "    model = keras.Sequential([\n",
    "    keras.layers.Dense(64, activation=tf.nn.relu, input_shape=(train_data.shape[1],)),\n",
    "    keras.layers.Dense(64, activation=tf.nn.relu),\n",
    "    keras.layers.Dense(1)])\n",
    "\n",
    "    optimizer = tf.keras.optimizers.RMSprop(0.001)\n",
    "\n",
    "    model.compile(loss='mse', optimizer=optimizer, metrics=['mae'])\n",
    "    return model\n",
    "\n",
    "model = build_model()\n",
    "model.summary()"
   ]
  },
  {
   "cell_type": "code",
   "execution_count": 68,
   "id": "428dc4a9",
   "metadata": {},
   "outputs": [
    {
     "name": "stdout",
     "output_type": "stream",
     "text": [
      "\n",
      ".\n",
      ".\n",
      ".\n",
      ".\n",
      "."
     ]
    }
   ],
   "source": [
    "# Отобразим прогресс тренировки, печатая по одной точке на каждую завершенную эпоху \n",
    "class PrintDot(keras.callbacks.Callback):\n",
    "    def on_epoch_end(self, epoch, logs):\n",
    "        if epoch % 100 == 0: \n",
    "            print('')\n",
    "            print('.', end='')\n",
    "\n",
    "EPOCHS = 500\n",
    "\n",
    "# Сохраним тренировочную статистику\n",
    "history = model.fit(train_data, train_labels, epochs=EPOCHS,\n",
    "                    validation_split=0.2, verbose=0,\n",
    "                    callbacks=[PrintDot()])"
   ]
  },
  {
   "cell_type": "code",
   "execution_count": 69,
   "id": "2f5d8051",
   "metadata": {},
   "outputs": [
    {
     "name": "stdout",
     "output_type": "stream",
     "text": [
      "Testing set Mean Abs Error: $206192343.75\n"
     ]
    }
   ],
   "source": [
    "[loss, mae] = model.evaluate(test_data, test_labels, verbose=0)\n",
    "\n",
    "print(f\"Testing set Mean Abs Error: ${mae * 1000:7.2f}\")"
   ]
  },
  {
   "cell_type": "code",
   "execution_count": 70,
   "id": "2f22d80e",
   "metadata": {},
   "outputs": [
    {
     "data": {
      "image/png": "[encoded data removed]",
      "text/plain": [
       "<Figure size 432x288 with 1 Axes>"
      ]
     },
     "metadata": {
      "needs_background": "light"
     },
     "output_type": "display_data"
    }
   ],
   "source": [
    "test_predictions = model.predict(test_data).flatten()\n",
    "\n",
    "plt.scatter(test_labels, test_predictions)\n",
    "plt.xlabel('True Values [1000$]')\n",
    "plt.ylabel('Predictions [1000$]')\n",
    "plt.axis('equal')\n",
    "plt.xlim(plt.xlim())\n",
    "plt.ylim(plt.ylim())\n",
    "plt.plot([-100, 100], [-100, 100], 'b', alpha=0.5);"
   ]
  },
  {
   "cell_type": "code",
   "execution_count": 71,
   "id": "2aef15a0",
   "metadata": {},
   "outputs": [
    {
     "data": {
      "image/png": "[encoded data removed]",
      "text/plain": [
       "<Figure size 432x288 with 1 Axes>"
      ]
     },
     "metadata": {
      "needs_background": "light"
     },
     "output_type": "display_data"
    }
   ],
   "source": [
    "error = test_predictions - test_labels\n",
    "plt.hist(error, bins = 20)\n",
    "plt.xlabel(\"Prediction Error [1000$]\")\n",
    "plt.ylabel(\"Count\");"
   ]
  }
 ],
 "metadata": {
  "kernelspec": {
   "display_name": "Python 3",
   "language": "python",
   "name": "python3"
  },
  "language_info": {
   "codemirror_mode": {
    "name": "ipython",
    "version": 3
   },
   "file_extension": ".py",
   "mimetype": "text/x-python",
   "name": "python",
   "nbconvert_exporter": "python",
   "pygments_lexer": "ipython3",
   "version": "3.6.13"
  }
 },
 "nbformat": 4,
 "nbformat_minor": 5
}
