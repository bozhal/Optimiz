{
 "cells": [
  {
   "cell_type": "code",
   "execution_count": 1,
   "id": "c3bd57d0-3f86-47b2-ab7b-6489f0764b55",
   "metadata": {},
   "outputs": [],
   "source": [
    "import numpy as np\n",
    "import pandas as pd\n",
    "from scipy.optimize import linprog\n",
    "import scipy.optimize as opt"
   ]
  },
  {
   "cell_type": "code",
   "execution_count": 112,
   "id": "d3c09e76-4387-4c9a-848f-120c4f927776",
   "metadata": {},
   "outputs": [],
   "source": [
    "### linprog"
   ]
  },
  {
   "cell_type": "code",
   "execution_count": 110,
   "id": "e543aa89-cb82-4d0f-8646-226f77dd6ad3",
   "metadata": {},
   "outputs": [
    {
     "data": {
      "text/html": [
       "<div>\n",
       "<style scoped>\n",
       "    .dataframe tbody tr th:only-of-type {\n",
       "        vertical-align: middle;\n",
       "    }\n",
       "\n",
       "    .dataframe tbody tr th {\n",
       "        vertical-align: top;\n",
       "    }\n",
       "\n",
       "    .dataframe thead th {\n",
       "        text-align: right;\n",
       "    }\n",
       "</style>\n",
       "<table border=\"1\" class=\"dataframe\">\n",
       "  <thead>\n",
       "    <tr style=\"text-align: right;\">\n",
       "      <th></th>\n",
       "      <th>P</th>\n",
       "      <th>Q</th>\n",
       "      <th>restr</th>\n",
       "    </tr>\n",
       "  </thead>\n",
       "  <tbody>\n",
       "    <tr>\n",
       "      <th>fat</th>\n",
       "      <td>15</td>\n",
       "      <td>4</td>\n",
       "      <td>14</td>\n",
       "    </tr>\n",
       "    <tr>\n",
       "      <th>calor</th>\n",
       "      <td>-150</td>\n",
       "      <td>-200</td>\n",
       "      <td>-300</td>\n",
       "    </tr>\n",
       "    <tr>\n",
       "      <th>price</th>\n",
       "      <td>15</td>\n",
       "      <td>-25</td>\n",
       "      <td>0</td>\n",
       "    </tr>\n",
       "  </tbody>\n",
       "</table>\n",
       "</div>"
      ],
      "text/plain": [
       "         P    Q  restr\n",
       "fat     15    4     14\n",
       "calor -150 -200   -300\n",
       "price   15  -25      0"
      ]
     },
     "execution_count": 110,
     "metadata": {},
     "output_type": "execute_result"
    }
   ],
   "source": [
    "cond = pd.DataFrame(np.array([[15,4, 14],[-150,-200, -300],[15,-25, 0]]), columns = ['P', 'Q', 'restr'], index = ['fat', 'calor', 'price'])\n",
    "cond"
   ]
  },
  {
   "cell_type": "code",
   "execution_count": 97,
   "id": "cc0a2360-4835-4840-98dc-d0bc96a05820",
   "metadata": {},
   "outputs": [
    {
     "data": {
      "text/plain": [
       "array([15, 25])"
      ]
     },
     "execution_count": 97,
     "metadata": {},
     "output_type": "execute_result"
    }
   ],
   "source": [
    "obj = cond.loc['price'].values[[0,1]]\n",
    "obj"
   ]
  },
  {
   "cell_type": "code",
   "execution_count": 99,
   "id": "81454d03-3862-4321-ad2f-4c5991a23e1b",
   "metadata": {},
   "outputs": [
    {
     "data": {
      "text/plain": [
       "array([[  15,    4],\n",
       "       [-150, -200]])"
      ]
     },
     "execution_count": 99,
     "metadata": {},
     "output_type": "execute_result"
    }
   ],
   "source": [
    "lhs_ineq = cond.loc[['fat', 'calor'], ['P', 'Q']].values\n",
    "lhs_ineq"
   ]
  },
  {
   "cell_type": "code",
   "execution_count": 100,
   "id": "6cb1ac00-23f6-44e0-a915-c1b0899dd834",
   "metadata": {},
   "outputs": [
    {
     "data": {
      "text/plain": [
       "array([[  14],\n",
       "       [-300]])"
      ]
     },
     "execution_count": 100,
     "metadata": {},
     "output_type": "execute_result"
    }
   ],
   "source": [
    "rhs_ineq = cond.loc[['fat', 'calor'], ['restr']].values\n",
    "rhs_ineq"
   ]
  },
  {
   "cell_type": "code",
   "execution_count": null,
   "id": "1f2d4636-7c24-485d-a473-b689b6105c12",
   "metadata": {},
   "outputs": [],
   "source": []
  },
  {
   "cell_type": "code",
   "execution_count": 101,
   "id": "66008039-c82c-4991-9e52-d38f62fc2a5c",
   "metadata": {},
   "outputs": [
    {
     "data": {
      "text/plain": [
       "        message: Optimization terminated successfully. (HiGHS Status 7: Optimal)\n",
       "        success: True\n",
       "         status: 0\n",
       "            fun: 35.0\n",
       "              x: [ 6.667e-01  1.000e+00]\n",
       "            nit: 2\n",
       "          lower:  residual: [ 6.667e-01  1.000e+00]\n",
       "                 marginals: [ 0.000e+00  0.000e+00]\n",
       "          upper:  residual: [       inf        inf]\n",
       "                 marginals: [ 0.000e+00  0.000e+00]\n",
       "          eqlin:  residual: []\n",
       "                 marginals: []\n",
       "        ineqlin:  residual: [ 0.000e+00  0.000e+00]\n",
       "                 marginals: [-3.125e-01 -1.313e-01]\n",
       " mip_node_count: 0\n",
       " mip_dual_bound: 0.0\n",
       "        mip_gap: 0.0"
      ]
     },
     "execution_count": 101,
     "metadata": {},
     "output_type": "execute_result"
    }
   ],
   "source": [
    "opt = linprog(c=obj, A_ub = lhs_ineq, b_ub = rhs_ineq)\n",
    "opt"
   ]
  },
  {
   "cell_type": "code",
   "execution_count": 102,
   "id": "ff507d93-288a-4a1d-8d99-8947714a949b",
   "metadata": {},
   "outputs": [
    {
     "data": {
      "text/plain": [
       "array([0.66666667, 1.        ])"
      ]
     },
     "execution_count": 102,
     "metadata": {},
     "output_type": "execute_result"
    }
   ],
   "source": [
    "opt.x"
   ]
  },
  {
   "cell_type": "code",
   "execution_count": 105,
   "id": "b9f8ac35-b58b-4412-a46f-ce0048bd5721",
   "metadata": {},
   "outputs": [
    {
     "name": "stdout",
     "output_type": "stream",
     "text": [
      "покупать продукта Р: 0.67 (40.00%) и продукта Q: 1.00 (60.00)%\n"
     ]
    }
   ],
   "source": [
    "print(f'покупать продукта Р: {opt.x[0]:.2f} ({opt.x[0]/opt.x.sum()*100:.2f}%) и продукта Q: {opt.x[1]:.2f} ({opt.x[1] / opt.x.sum()*100:.2f})%')"
   ]
  },
  {
   "cell_type": "code",
   "execution_count": 106,
   "id": "d787f8fa-dc5a-48b3-830e-5d938da09038",
   "metadata": {},
   "outputs": [
    {
     "data": {
      "text/plain": [
       "array([  14., -300.,   35.])"
      ]
     },
     "execution_count": 106,
     "metadata": {},
     "output_type": "execute_result"
    }
   ],
   "source": [
    "check = (cond.loc[['fat', 'calor','price'], ['P', 'Q']].values).dot(opt.x)\n",
    "check"
   ]
  },
  {
   "cell_type": "code",
   "execution_count": 107,
   "id": "0954be2d-aeab-450d-baec-a7809da474f8",
   "metadata": {},
   "outputs": [
    {
     "data": {
      "text/html": [
       "<div>\n",
       "<style scoped>\n",
       "    .dataframe tbody tr th:only-of-type {\n",
       "        vertical-align: middle;\n",
       "    }\n",
       "\n",
       "    .dataframe tbody tr th {\n",
       "        vertical-align: top;\n",
       "    }\n",
       "\n",
       "    .dataframe thead th {\n",
       "        text-align: right;\n",
       "    }\n",
       "</style>\n",
       "<table border=\"1\" class=\"dataframe\">\n",
       "  <thead>\n",
       "    <tr style=\"text-align: right;\">\n",
       "      <th></th>\n",
       "      <th>P</th>\n",
       "      <th>Q</th>\n",
       "      <th>restr</th>\n",
       "      <th>solution</th>\n",
       "    </tr>\n",
       "  </thead>\n",
       "  <tbody>\n",
       "    <tr>\n",
       "      <th>fat</th>\n",
       "      <td>15</td>\n",
       "      <td>4</td>\n",
       "      <td>14</td>\n",
       "      <td>14.0</td>\n",
       "    </tr>\n",
       "    <tr>\n",
       "      <th>calor</th>\n",
       "      <td>-150</td>\n",
       "      <td>-200</td>\n",
       "      <td>-300</td>\n",
       "      <td>-300.0</td>\n",
       "    </tr>\n",
       "    <tr>\n",
       "      <th>price</th>\n",
       "      <td>15</td>\n",
       "      <td>25</td>\n",
       "      <td>0</td>\n",
       "      <td>35.0</td>\n",
       "    </tr>\n",
       "  </tbody>\n",
       "</table>\n",
       "</div>"
      ],
      "text/plain": [
       "         P    Q  restr  solution\n",
       "fat     15    4     14      14.0\n",
       "calor -150 -200   -300    -300.0\n",
       "price   15   25      0      35.0"
      ]
     },
     "execution_count": 107,
     "metadata": {},
     "output_type": "execute_result"
    }
   ],
   "source": [
    "cond.merge(pd.Series(check, index = ['fat', 'calor', 'price'], name = 'solution'), left_index=True, right_index=True)"
   ]
  },
  {
   "cell_type": "code",
   "execution_count": 113,
   "id": "da979ce5-ec13-4e14-a477-6c7bbff3c8bb",
   "metadata": {},
   "outputs": [],
   "source": [
    "# optimize ???"
   ]
  },
  {
   "cell_type": "code",
   "execution_count": 2,
   "id": "ceff1dca-f355-4192-95da-7ec5e3229c0b",
   "metadata": {},
   "outputs": [],
   "source": [
    "def min_price(x):\n",
    "    p, q = x\n",
    "    return p * 15 + q * 25"
   ]
  },
  {
   "cell_type": "code",
   "execution_count": 29,
   "id": "f0eedfd4-fc50-4507-a2d4-5d6eb051b352",
   "metadata": {},
   "outputs": [
    {
     "data": {
      "text/plain": [
       "[{'type': 'ineq', 'fun': <function __main__.<lambda>(p)>},\n",
       " {'type': 'ineq', 'fun': <function __main__.<lambda>(p)>}]"
      ]
     },
     "execution_count": 29,
     "metadata": {},
     "output_type": "execute_result"
    }
   ],
   "source": [
    "constr1 = ({'type': 'ineq', 'fun': lambda p: 14  - p[0]*15 - p[1]* 4})\n",
    "constr2 = ({'type': 'ineq', 'fun': lambda p: -300  + p[0]*150 + p[1]* 200})\n",
    "constr =  [constr1, constr2]\n",
    "constr"
   ]
  },
  {
   "cell_type": "code",
   "execution_count": 27,
   "id": "efebbf30-c903-435a-8880-febc04463fe6",
   "metadata": {},
   "outputs": [],
   "source": [
    "bond = ((0,10000), (0,100000))"
   ]
  },
  {
   "cell_type": "code",
   "execution_count": 11,
   "id": "fa31a289-fed7-4b24-8459-ecc6b678dfff",
   "metadata": {},
   "outputs": [],
   "source": [
    "x0 = np.array([0, 0])"
   ]
  },
  {
   "cell_type": "code",
   "execution_count": 33,
   "id": "1be042eb-6a85-47fe-831a-645599a79296",
   "metadata": {},
   "outputs": [],
   "source": [
    "sol_opt = opt.minimize(min_price, [0,0], bounds = bond, constraints = constr)"
   ]
  },
  {
   "cell_type": "code",
   "execution_count": 34,
   "id": "b6dd6879-7a83-4d1c-aa74-2c7f812f12f3",
   "metadata": {},
   "outputs": [
    {
     "data": {
      "text/plain": [
       " message: Optimization terminated successfully\n",
       " success: True\n",
       "  status: 0\n",
       "     fun: 35.00000000010623\n",
       "       x: [ 6.667e-01  1.000e+00]\n",
       "     nit: 2\n",
       "     jac: [ 1.500e+01  2.500e+01]\n",
       "    nfev: 6\n",
       "    njev: 2"
      ]
     },
     "execution_count": 34,
     "metadata": {},
     "output_type": "execute_result"
    }
   ],
   "source": [
    "sol_opt"
   ]
  },
  {
   "cell_type": "code",
   "execution_count": 37,
   "id": "889dd0c8-126e-4d2c-9347-ab42535ca129",
   "metadata": {},
   "outputs": [
    {
     "data": {
      "text/plain": [
       "array([0.66666667, 1.        ])"
      ]
     },
     "execution_count": 37,
     "metadata": {},
     "output_type": "execute_result"
    }
   ],
   "source": [
    "sol_opt.x"
   ]
  },
  {
   "cell_type": "code",
   "execution_count": 41,
   "id": "c1eb1e4d-2aaa-4347-bdc7-f9e17f54e15a",
   "metadata": {},
   "outputs": [
    {
     "name": "stdout",
     "output_type": "stream",
     "text": [
      "покупать продукта Р: 0.67 (40.00%) и продукта Q: 1.00 (60.00)%\n"
     ]
    }
   ],
   "source": [
    "print(f'покупать продукта Р: {sol_opt.x[0]:.2f} ({sol_opt.x[0]/sol_opt.x.sum()*100:.2f}%) и продукта Q: {sol_opt.x[1]:.2f} ({sol_opt.x[1] / sol_opt.x.sum()*100:.2f})%')"
   ]
  }
 ],
 "metadata": {
  "kernelspec": {
   "display_name": "Python 3 (ipykernel)",
   "language": "python",
   "name": "python3"
  },
  "language_info": {
   "codemirror_mode": {
    "name": "ipython",
    "version": 3
   },
   "file_extension": ".py",
   "mimetype": "text/x-python",
   "name": "python",
   "nbconvert_exporter": "python",
   "pygments_lexer": "ipython3",
   "version": "3.11.7"
  }
 },
 "nbformat": 4,
 "nbformat_minor": 5
}
