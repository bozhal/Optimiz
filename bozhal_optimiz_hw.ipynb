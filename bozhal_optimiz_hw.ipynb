{
 "cells": [
  {
   "cell_type": "markdown",
   "id": "939c1e05-99df-49c0-b4a3-bf682f2c217a",
   "metadata": {},
   "source": [
    "maximize: sales = p1 * 1200 + p2 * 2500 + p3 * 1400 \n",
    "mimize :  - sales = - p1 * 1200 - p2 * 2500 - p3 * 1400 \n",
    "subject to: \n",
    "        1. demand(bnd): p1 <= 35,\n",
    "                                  p2 <= 25,\n",
    "                                            p3 <= 30\n",
    "        2. capacity: \n",
    "                   цех1: p1 +    p2 +     p3 <= 40\n",
    "                   цех2: 0  +    0  +     p3 <= 20 \n",
    "                   цех3: 0       p2 * 8 + p3 * 2 <= 80\n",
    "                   \n",
    "        3. supply: p1 * 0,8  +   p2 * 0,6 + p3 * 0,7 <= 50       "
   ]
  },
  {
   "cell_type": "code",
   "execution_count": 13,
   "id": "124d188c-f118-469e-8d3a-1ffd0fa56587",
   "metadata": {},
   "outputs": [],
   "source": [
    "# SciPy\n",
    "from scipy.optimize import linprog\n",
    "import numpy as np"
   ]
  },
  {
   "cell_type": "code",
   "execution_count": 2,
   "id": "6708e047-53da-4b4a-ba96-eae126bab5d5",
   "metadata": {},
   "outputs": [],
   "source": [
    "obj = [- 1200, - 2500, - 1400]"
   ]
  },
  {
   "cell_type": "code",
   "execution_count": 3,
   "id": "c58d2cac-3024-4bda-a0eb-fff2acbdc296",
   "metadata": {},
   "outputs": [],
   "source": [
    "bnd = [(0, 35), (0, 25), (0, 30)]"
   ]
  },
  {
   "cell_type": "code",
   "execution_count": 4,
   "id": "83d7c3f9-5f0f-42b2-a114-a22216bec9cf",
   "metadata": {},
   "outputs": [],
   "source": [
    "lhs_ineq = [[1, 1, 1], [0, 0, 1], [0, 8, 2], [0.8, 0.6, 0.7]]"
   ]
  },
  {
   "cell_type": "code",
   "execution_count": 5,
   "id": "28eeb269-1d22-45b3-82af-1b8bfde8bfc4",
   "metadata": {},
   "outputs": [],
   "source": [
    "rhs_ineq = [40, 20, 80, 50]"
   ]
  },
  {
   "cell_type": "code",
   "execution_count": 6,
   "id": "c06d5503-293b-4f33-acf9-299e17012ba4",
   "metadata": {},
   "outputs": [],
   "source": [
    "opt = linprog(c=obj, A_ub = lhs_ineq, b_ub= rhs_ineq, bounds=bnd)"
   ]
  },
  {
   "cell_type": "code",
   "execution_count": 7,
   "id": "e051af59-d65b-4f77-bfdd-5768afa82490",
   "metadata": {},
   "outputs": [
    {
     "data": {
      "text/plain": [
       "        message: Optimization terminated successfully. (HiGHS Status 7: Optimal)\n",
       "        success: True\n",
       "         status: 0\n",
       "            fun: -61000.0\n",
       "              x: [ 3.000e+01  1.000e+01  0.000e+00]\n",
       "            nit: 3\n",
       "          lower:  residual: [ 3.000e+01  1.000e+01  0.000e+00]\n",
       "                 marginals: [ 0.000e+00  0.000e+00  1.250e+02]\n",
       "          upper:  residual: [ 5.000e+00  1.500e+01  3.000e+01]\n",
       "                 marginals: [ 0.000e+00  0.000e+00  0.000e+00]\n",
       "          eqlin:  residual: []\n",
       "                 marginals: []\n",
       "        ineqlin:  residual: [ 0.000e+00  2.000e+01  0.000e+00  2.000e+01]\n",
       "                 marginals: [-1.200e+03 -0.000e+00 -1.625e+02 -0.000e+00]\n",
       " mip_node_count: 0\n",
       " mip_dual_bound: 0.0\n",
       "        mip_gap: 0.0"
      ]
     },
     "execution_count": 7,
     "metadata": {},
     "output_type": "execute_result"
    }
   ],
   "source": [
    "opt"
   ]
  },
  {
   "cell_type": "code",
   "execution_count": 16,
   "id": "98be4fd1-7ebb-48b3-9ae8-5820a645d4b2",
   "metadata": {},
   "outputs": [
    {
     "data": {
      "text/plain": [
       "array([30., 10.,  0.])"
      ]
     },
     "execution_count": 16,
     "metadata": {},
     "output_type": "execute_result"
    }
   ],
   "source": [
    "opt.x"
   ]
  },
  {
   "cell_type": "code",
   "execution_count": 22,
   "id": "54179ef6-f3cc-4519-9427-9bd3016d0b64",
   "metadata": {},
   "outputs": [
    {
     "data": {
      "text/plain": [
       "array([40.,  0., 80., 30.])"
      ]
     },
     "execution_count": 22,
     "metadata": {},
     "output_type": "execute_result"
    }
   ],
   "source": [
    "# check solution:\n",
    "check = np.array(lhs_ineq).dot(opt.x)\n",
    "check"
   ]
  },
  {
   "cell_type": "code",
   "execution_count": 77,
   "id": "87456339-5fa5-47ef-b5f9-eadc58364e0b",
   "metadata": {},
   "outputs": [
    {
     "name": "stdout",
     "output_type": "stream",
     "text": [
      "продажи всего:  61,000.0\n",
      "производим П1 30.0 при спросе 35 на сумму 36000.0;\n",
      "производим П2 10.0 при спросе 25  на сумму 25000.0;\n",
      "производим П3 0.0 при спросе 30  на сумму 0.0.\n",
      "\n",
      "Ц1 производит 40.0 при ограничении 40;\n",
      "Ц2 производит 0.0 при ограничении 20;\n",
      "Ц3 производит 80.0 при ограничении 80;\n",
      "Всего производится 30.0 при ограничении 50.\n"
     ]
    }
   ],
   "source": [
    "print(f'продажи всего:  {-np.array(obj).dot(opt.x):,}')\n",
    "print(f'производим П1: {opt.x[0]} при спросе {bnd[0][1]} на сумму {-obj[0]*opt.x[0]};\\n\\\n",
    "производим П2: {opt.x[1]} при спросе {bnd[1][1]}  на сумму {-obj[1]*opt.x[1]};\\n\\\n",
    "производим П3: {opt.x[2]} при спросе {bnd[2][1]}  на сумму {-obj[2]*opt.x[2]}.\\n')\n",
    "\n",
    "print(f'Ц1 производит {check[0]} при ограничении {rhs_ineq[0]};\\n\\\n",
    "Ц2 производит {check[1]} при ограничении {rhs_ineq[1]};\\n\\\n",
    "Ц3 производит {check[2]} при ограничении {rhs_ineq[2]};\\n\\\n",
    "Всего производится {check[3]} при ограничении {rhs_ineq[3]}.')"
   ]
  },
  {
   "cell_type": "code",
   "execution_count": null,
   "id": "0bb6d36c-2ec7-46ef-9955-4bb157c8628e",
   "metadata": {},
   "outputs": [],
   "source": []
  },
  {
   "cell_type": "code",
   "execution_count": 12,
   "id": "f50768b5-7abd-410a-b946-0ad40fee7aeb",
   "metadata": {},
   "outputs": [],
   "source": [
    "# pulp\n",
    "from pulp import LpMaximize, LpProblem, LpStatus, lpSum, LpVariable"
   ]
  },
  {
   "cell_type": "code",
   "execution_count": 50,
   "id": "138929c6-1622-4c00-84fe-76ede74eb1bb",
   "metadata": {},
   "outputs": [],
   "source": [
    "model = LpProblem (name = 'factory', sense = LpMaximize)"
   ]
  },
  {
   "cell_type": "code",
   "execution_count": 51,
   "id": "f2482b7b-111c-418d-95ee-3c79aac7191d",
   "metadata": {},
   "outputs": [],
   "source": [
    "# demand\n",
    "p1 = LpVariable(name = 'p1', lowBound = 0, upBound = 35, cat='Integer')\n",
    "p2 = LpVariable(name = 'p2', lowBound = 0, upBound = 25, cat='Integer')\n",
    "p3 = LpVariable(name = 'p3', lowBound = 0, upBound = 30, cat='Integer')"
   ]
  },
  {
   "cell_type": "code",
   "execution_count": 59,
   "id": "ae565e5b-ec58-409f-8fdc-4e358dc9cc7e",
   "metadata": {},
   "outputs": [],
   "source": [
    "# sales\n",
    "obj_func = (p1 * 1200 + p2 * 2500 + p3 * 1400)\n",
    "model += obj_func"
   ]
  },
  {
   "cell_type": "code",
   "execution_count": 33,
   "id": "12228017-ef46-4b4b-bab9-b9a5e1adac06",
   "metadata": {},
   "outputs": [],
   "source": []
  },
  {
   "cell_type": "code",
   "execution_count": 57,
   "id": "2f625c11-1879-480a-a2da-890c4e68527e",
   "metadata": {},
   "outputs": [],
   "source": [
    "# capacity:\n",
    "model += (p1 +    p2 +     p3 <= 40) # цех1\n",
    "model += (p3 <= 20) #цех2\n",
    "model += (p2 * 8 + p3 * 2 <= 80) # цех3\n",
    "# supply:\n",
    "model += (p1 * 0.8  +   p2 * 0.6 + p3 * 0.7 <= 50)"
   ]
  },
  {
   "cell_type": "code",
   "execution_count": 60,
   "id": "076d8d41-5b3b-46e3-95f3-300785def049",
   "metadata": {},
   "outputs": [
    {
     "data": {
      "text/plain": [
       "factory:\n",
       "MAXIMIZE\n",
       "1200*p1 + 2500*p2 + 1400*p3 + 0\n",
       "SUBJECT TO\n",
       "model_supply: 0.8 p1 + 0.6 p2 + 0.7 p3 <= 50\n",
       "\n",
       "first: p1 + p2 + p3 <= 40\n",
       "\n",
       "_C1: p1 + p2 + p3 <= 40\n",
       "\n",
       "_C2: 0.8 p1 + 0.6 p2 + 0.7 p3 <= 50\n",
       "\n",
       "_C3: p1 + p2 + p3 <= 40\n",
       "\n",
       "_C4: p3 <= 20\n",
       "\n",
       "_C5: 8 p2 + 2 p3 <= 80\n",
       "\n",
       "_C6: 0.8 p1 + 0.6 p2 + 0.7 p3 <= 50\n",
       "\n",
       "VARIABLES\n",
       "0 <= p1 <= 35 Integer\n",
       "0 <= p2 <= 25 Integer\n",
       "0 <= p3 <= 30 Integer"
      ]
     },
     "execution_count": 60,
     "metadata": {},
     "output_type": "execute_result"
    }
   ],
   "source": [
    "model"
   ]
  },
  {
   "cell_type": "code",
   "execution_count": 62,
   "id": "9639b0cc-f023-4bf2-ba4c-d1234403ed11",
   "metadata": {},
   "outputs": [],
   "source": [
    "status = model.solve()"
   ]
  },
  {
   "cell_type": "code",
   "execution_count": 63,
   "id": "2839662c-1bf8-4b2b-b555-f6efa275a1a8",
   "metadata": {},
   "outputs": [
    {
     "name": "stdout",
     "output_type": "stream",
     "text": [
      "status: 1, Optimal\n",
      "objective: 61000.0\n",
      "p1: 30.0\n",
      "p2: 10.0\n",
      "p3: 0.0\n",
      "model_supply: -20.0\n",
      "first: 0.0\n",
      "_C1: 0.0\n",
      "_C2: -20.0\n",
      "_C3: 0.0\n",
      "_C4: -20.0\n",
      "_C5: 0.0\n",
      "_C6: -20.0\n"
     ]
    }
   ],
   "source": [
    "print(f\"status: {model.status}, {LpStatus[model.status]}\")\n",
    "print(f\"objective: {model.objective.value()}\")\n",
    "\n",
    "for var in model.variables():\n",
    "    print(f\"{var.name}: {var.value()}\")\n",
    "\n",
    "for name, constraint in model.constraints.items():\n",
    "    print(f\"{name}: {constraint.value()}\")"
   ]
  }
 ],
 "metadata": {
  "kernelspec": {
   "display_name": "Python 3 (ipykernel)",
   "language": "python",
   "name": "python3"
  },
  "language_info": {
   "codemirror_mode": {
    "name": "ipython",
    "version": 3
   },
   "file_extension": ".py",
   "mimetype": "text/x-python",
   "name": "python",
   "nbconvert_exporter": "python",
   "pygments_lexer": "ipython3",
   "version": "3.11.7"
  }
 },
 "nbformat": 4,
 "nbformat_minor": 5
}
